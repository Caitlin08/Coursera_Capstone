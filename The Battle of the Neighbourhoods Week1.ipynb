{
 "cells": [
  {
   "cell_type": "markdown",
   "metadata": {},
   "source": [
    "# Capstone Project - The battle of the neighbourhoods Week 1"
   ]
  },
  {
   "cell_type": "markdown",
   "metadata": {},
   "source": [
    "## Introduction\n",
    "This assignment is targeted at stakeholders wanting to open a sit-down restaurant in a popular area.\n",
    "\n",
    "London is one of the most popular cities in the world, it is home to 7.5 million of people and welcomes million of visitors each year [1]. The number of residents as well as tourists visiting London each year brings a boost to businesses and therefore London was chosen to analyze in the assignment.\n",
    "\n",
    "London is made up of unique neighbourhoods, each with their own characteristics, however only the 10 best neighbourhoods to explore in London, according to source [2], were analyzed. This is because these 10 neighbourhoods are distinct and thus popular and have numerous people passing through each day making them an ideal area to open a restaurant. \n",
    "\n",
    "The distance of the restaurant to London central is investigated. The closer the restaurant is to London central results in more circulation of people in and out of the city center and thus a higher potential for customers. We will also look at what types of restaurants are common and popular in each neighbourhood helping us decide what type of restaurant to open.\n",
    "\n",
    "Data analysis will be used on each of the neighbourhoods so that the best choice can be made by the stakeholders"
   ]
  },
  {
   "cell_type": "markdown",
   "metadata": {},
   "source": [
    "## Data\n",
    "The 10 London neighbourhoods that we are analyzing were obtained from source [2], which include:\n",
    "\n",
    "•Mayfair\n",
    "•Shoreditch\n",
    "•Chelsea\n",
    "•Greenwich\n",
    "•Southwark\n",
    "•Brixton\n",
    "•Notting Hill\n",
    "•Camden\n",
    "•Soho\n",
    "•Kensington\n",
    "\n",
    "The coordinates of each of these neighbourhoods as well as London central was obtained through the geocoder module which converts an address into latitude and longitude coordinates.\n",
    "Foursquare API was used to find data on the nearby venues within a radius of 500m from each neighbourhood. It was also used to find location data for a more specific type of restaurant nearby each neighbourhood, as well as to find reviews on specific restaurants."
   ]
  },
  {
   "cell_type": "code",
   "execution_count": 2,
   "metadata": {},
   "outputs": [
    {
     "name": "stdout",
     "output_type": "stream",
     "text": [
      "Solving environment: done\n",
      "\n",
      "\n",
      "==> WARNING: A newer version of conda exists. <==\n",
      "  current version: 4.5.11\n",
      "  latest version: 4.7.12\n",
      "\n",
      "Please update conda by running\n",
      "\n",
      "    $ conda update -n base -c defaults conda\n",
      "\n",
      "\n",
      "\n",
      "# All requested packages already installed.\n",
      "\n"
     ]
    }
   ],
   "source": [
    "import requests # library to handle requests\n",
    "import pandas as pd\n",
    "!conda install -c conda-forge geopy --yes \n",
    "from geopy.geocoders import Nominatim # module to convert an address into latitude and longitude values"
   ]
  },
  {
   "cell_type": "markdown",
   "metadata": {},
   "source": [
    "The coordinates of Central London as well as the coordinates of each of the 10 neighbourhoods we are comparing are found using the geocoder function. We need to define a user_agent to define an instance of the geocoder, and so we have named our agent london_agent."
   ]
  },
  {
   "cell_type": "code",
   "execution_count": 3,
   "metadata": {},
   "outputs": [
    {
     "name": "stdout",
     "output_type": "stream",
     "text": [
      "51.5073219 -0.1276474\n"
     ]
    }
   ],
   "source": [
    "#Finding Londons coordinates\n",
    "address = 'London'\n",
    "\n",
    "geolocator = Nominatim(user_agent=\"london_agent\")\n",
    "location = geolocator.geocode(address)\n",
    "Londonlatitude = location.latitude\n",
    "Londonlongitude = location.longitude\n",
    "print(Londonlatitude, Londonlongitude)"
   ]
  },
  {
   "cell_type": "code",
   "execution_count": 4,
   "metadata": {},
   "outputs": [
    {
     "name": "stdout",
     "output_type": "stream",
     "text": [
      "51.5110872 -0.147058\n"
     ]
    }
   ],
   "source": [
    "#Finding Mayfair coordinates\n",
    "address = 'Mayfair'\n",
    "\n",
    "geolocator = Nominatim(user_agent=\"london_agent\")\n",
    "location = geolocator.geocode(address)\n",
    "Mayfairlatitude = location.latitude\n",
    "Mayfairlongitude = location.longitude\n",
    "print(Mayfairlatitude, Mayfairlongitude)"
   ]
  },
  {
   "cell_type": "code",
   "execution_count": 5,
   "metadata": {},
   "outputs": [
    {
     "name": "stdout",
     "output_type": "stream",
     "text": [
      "51.5266694 -0.0798926\n"
     ]
    }
   ],
   "source": [
    "#Finding Shoreditch coordinates\n",
    "address = 'Shoreditch'\n",
    "\n",
    "geolocator = Nominatim(user_agent=\"london_agent\")\n",
    "location = geolocator.geocode(address)\n",
    "Shoreditchlatitude = location.latitude\n",
    "Shoreditchlongitude = location.longitude\n",
    "print(Shoreditchlatitude, Shoreditchlongitude)"
   ]
  },
  {
   "cell_type": "code",
   "execution_count": 6,
   "metadata": {},
   "outputs": [
    {
     "name": "stdout",
     "output_type": "stream",
     "text": [
      "51.4875417 -0.1682205\n"
     ]
    }
   ],
   "source": [
    "#Finding Chelsea coordinates\n",
    "address = 'Chelsea'\n",
    "\n",
    "geolocator = Nominatim(user_agent=\"london_agent\")\n",
    "location = geolocator.geocode(address)\n",
    "Chelsealatitude = location.latitude\n",
    "Chelsealongitude = location.longitude\n",
    "print(Chelsealatitude, Chelsealongitude)"
   ]
  },
  {
   "cell_type": "code",
   "execution_count": 7,
   "metadata": {},
   "outputs": [
    {
     "name": "stdout",
     "output_type": "stream",
     "text": [
      "51.4820845 -0.0045417\n"
     ]
    }
   ],
   "source": [
    "#Finding Greenwich coordinates\n",
    "address = 'Greenwich, London'\n",
    "\n",
    "geolocator = Nominatim(user_agent=\"london_agent\")\n",
    "location = geolocator.geocode(address)\n",
    "Greenwichlatitude = location.latitude\n",
    "Greenwichlongitude = location.longitude\n",
    "print(Greenwichlatitude, Greenwichlongitude)"
   ]
  },
  {
   "cell_type": "code",
   "execution_count": 8,
   "metadata": {},
   "outputs": [
    {
     "name": "stdout",
     "output_type": "stream",
     "text": [
      "51.5029222 -0.103458\n"
     ]
    }
   ],
   "source": [
    "#Finding Southwark coordinates\n",
    "address = 'Southwark'\n",
    "\n",
    "geolocator = Nominatim(user_agent=\"london_agent\")\n",
    "location = geolocator.geocode(address)\n",
    "Southwarklatitude = location.latitude\n",
    "Southwarklongitude = location.longitude\n",
    "print(Southwarklatitude, Southwarklongitude)"
   ]
  },
  {
   "cell_type": "code",
   "execution_count": 9,
   "metadata": {},
   "outputs": [
    {
     "name": "stdout",
     "output_type": "stream",
     "text": [
      "51.4568044 -0.1167959\n"
     ]
    }
   ],
   "source": [
    "#Finding Brixton coordinates\n",
    "address = 'Brixton'\n",
    "\n",
    "geolocator = Nominatim(user_agent=\"london_agent\")\n",
    "location = geolocator.geocode(address)\n",
    "Brixtonlatitude = location.latitude\n",
    "Brixtonlongitude = location.longitude\n",
    "print(Brixtonlatitude, Brixtonlongitude)"
   ]
  },
  {
   "cell_type": "code",
   "execution_count": 10,
   "metadata": {},
   "outputs": [
    {
     "name": "stdout",
     "output_type": "stream",
     "text": [
      "51.5109995 -0.2055267\n"
     ]
    }
   ],
   "source": [
    "#Finding Notting Hill coordinates\n",
    "address = 'Notting Hill'\n",
    "\n",
    "geolocator = Nominatim(user_agent=\"london_agent\")\n",
    "location = geolocator.geocode(address)\n",
    "NottingHilllatitude = location.latitude\n",
    "NottingHilllongitude = location.longitude\n",
    "print(NottingHilllatitude, NottingHilllongitude)"
   ]
  },
  {
   "cell_type": "code",
   "execution_count": 11,
   "metadata": {},
   "outputs": [
    {
     "name": "stdout",
     "output_type": "stream",
     "text": [
      "51.5423045 -0.1395604\n"
     ]
    }
   ],
   "source": [
    "#Finding Camden coordinates\n",
    "address = 'Camden, London'\n",
    "\n",
    "geolocator = Nominatim(user_agent=\"london_agent\")\n",
    "location = geolocator.geocode(address)\n",
    "Camdenlatitude = location.latitude\n",
    "Camdenlongitude = location.longitude\n",
    "print(Camdenlatitude, Camdenlongitude)"
   ]
  },
  {
   "cell_type": "code",
   "execution_count": 12,
   "metadata": {},
   "outputs": [
    {
     "name": "stdout",
     "output_type": "stream",
     "text": [
      "51.5131628 -0.1311754\n"
     ]
    }
   ],
   "source": [
    "#Finding Soho coordinates\n",
    "address = 'Soho'\n",
    "\n",
    "geolocator = Nominatim(user_agent=\"london_agent\")\n",
    "location = geolocator.geocode(address)\n",
    "Soholatitude = location.latitude\n",
    "Soholongitude = location.longitude\n",
    "print(Soholatitude, Soholongitude)"
   ]
  },
  {
   "cell_type": "code",
   "execution_count": 13,
   "metadata": {},
   "outputs": [
    {
     "name": "stdout",
     "output_type": "stream",
     "text": [
      "51.4989948 -0.1991229\n"
     ]
    }
   ],
   "source": [
    "#Finding Kensington coordinates\n",
    "address = 'Kensington'\n",
    "\n",
    "geolocator = Nominatim(user_agent=\"london_agent\")\n",
    "location = geolocator.geocode(address)\n",
    "Kensingtonlatitude = location.latitude\n",
    "Kensingtonlongitude = location.longitude\n",
    "print(Kensingtonlatitude, Kensingtonlongitude)"
   ]
  },
  {
   "cell_type": "markdown",
   "metadata": {},
   "source": [
    "##### Now create a dataframe with the coordinates of these 10 neighbourhoods. This is the data we will e using for the rest of the analysis in the project."
   ]
  },
  {
   "cell_type": "code",
   "execution_count": 14,
   "metadata": {},
   "outputs": [],
   "source": [
    "#create a dataframe with all the neighbourhoods and their coordinates\n",
    "datacoordinates={'Neighbourhood':['Mayfair', 'Shoreditch', 'Chelsea', 'Greenwich', 'Southwark', 'Brixton', 'Notting Hill', 'Camden', 'Soho', 'Kensington'],\n",
    "               'Latitude':[Mayfairlatitude, Shoreditchlatitude, Chelsealatitude, Greenwichlatitude, Southwarklatitude, Brixtonlatitude, NottingHilllatitude, Camdenlatitude, Soholatitude, Kensingtonlatitude],\n",
    "               'Longitude':[Mayfairlongitude, Shoreditchlongitude, Chelsealongitude, Greenwichlongitude, Southwarklongitude, Brixtonlongitude, NottingHilllongitude, Camdenlongitude, Soholongitude, Kensingtonlongitude]}"
   ]
  },
  {
   "cell_type": "code",
   "execution_count": 15,
   "metadata": {},
   "outputs": [
    {
     "data": {
      "text/html": [
       "<div>\n",
       "<style scoped>\n",
       "    .dataframe tbody tr th:only-of-type {\n",
       "        vertical-align: middle;\n",
       "    }\n",
       "\n",
       "    .dataframe tbody tr th {\n",
       "        vertical-align: top;\n",
       "    }\n",
       "\n",
       "    .dataframe thead th {\n",
       "        text-align: right;\n",
       "    }\n",
       "</style>\n",
       "<table border=\"1\" class=\"dataframe\">\n",
       "  <thead>\n",
       "    <tr style=\"text-align: right;\">\n",
       "      <th></th>\n",
       "      <th>Neighbourhood</th>\n",
       "      <th>Latitude</th>\n",
       "      <th>Longitude</th>\n",
       "    </tr>\n",
       "  </thead>\n",
       "  <tbody>\n",
       "    <tr>\n",
       "      <th>0</th>\n",
       "      <td>Mayfair</td>\n",
       "      <td>51.511087</td>\n",
       "      <td>-0.147058</td>\n",
       "    </tr>\n",
       "    <tr>\n",
       "      <th>1</th>\n",
       "      <td>Shoreditch</td>\n",
       "      <td>51.526669</td>\n",
       "      <td>-0.079893</td>\n",
       "    </tr>\n",
       "    <tr>\n",
       "      <th>2</th>\n",
       "      <td>Chelsea</td>\n",
       "      <td>51.487542</td>\n",
       "      <td>-0.168220</td>\n",
       "    </tr>\n",
       "    <tr>\n",
       "      <th>3</th>\n",
       "      <td>Greenwich</td>\n",
       "      <td>51.482084</td>\n",
       "      <td>-0.004542</td>\n",
       "    </tr>\n",
       "    <tr>\n",
       "      <th>4</th>\n",
       "      <td>Southwark</td>\n",
       "      <td>51.502922</td>\n",
       "      <td>-0.103458</td>\n",
       "    </tr>\n",
       "    <tr>\n",
       "      <th>5</th>\n",
       "      <td>Brixton</td>\n",
       "      <td>51.456804</td>\n",
       "      <td>-0.116796</td>\n",
       "    </tr>\n",
       "    <tr>\n",
       "      <th>6</th>\n",
       "      <td>Notting Hill</td>\n",
       "      <td>51.510999</td>\n",
       "      <td>-0.205527</td>\n",
       "    </tr>\n",
       "    <tr>\n",
       "      <th>7</th>\n",
       "      <td>Camden</td>\n",
       "      <td>51.542305</td>\n",
       "      <td>-0.139560</td>\n",
       "    </tr>\n",
       "    <tr>\n",
       "      <th>8</th>\n",
       "      <td>Soho</td>\n",
       "      <td>51.513163</td>\n",
       "      <td>-0.131175</td>\n",
       "    </tr>\n",
       "    <tr>\n",
       "      <th>9</th>\n",
       "      <td>Kensington</td>\n",
       "      <td>51.498995</td>\n",
       "      <td>-0.199123</td>\n",
       "    </tr>\n",
       "  </tbody>\n",
       "</table>\n",
       "</div>"
      ],
      "text/plain": [
       "  Neighbourhood   Latitude  Longitude\n",
       "0       Mayfair  51.511087  -0.147058\n",
       "1    Shoreditch  51.526669  -0.079893\n",
       "2       Chelsea  51.487542  -0.168220\n",
       "3     Greenwich  51.482084  -0.004542\n",
       "4     Southwark  51.502922  -0.103458\n",
       "5       Brixton  51.456804  -0.116796\n",
       "6  Notting Hill  51.510999  -0.205527\n",
       "7        Camden  51.542305  -0.139560\n",
       "8          Soho  51.513163  -0.131175\n",
       "9    Kensington  51.498995  -0.199123"
      ]
     },
     "execution_count": 15,
     "metadata": {},
     "output_type": "execute_result"
    }
   ],
   "source": [
    "dfcoordinates=pd.DataFrame(datacoordinates)\n",
    "dfcoordinates"
   ]
  },
  {
   "cell_type": "markdown",
   "metadata": {},
   "source": [
    "## References\n",
    "[1]\tFerne Arfin. 2019. Top 20 Most Popular UK Cities for International Visitors. 06 December 2019. <https://www.tripsavvy.com/popular-uk-cities-for-international-visitors-1661845>\n",
    "\n",
    "[2]\tRachel Erdos. 2019. The 10 Best Neighbourhoods to Explore in London. 06 December 2019. <https://www.tripsavvy.com/best-neighbourhoods-to-explore-in-london-4129386>"
   ]
  },
  {
   "cell_type": "code",
   "execution_count": null,
   "metadata": {},
   "outputs": [],
   "source": []
  }
 ],
 "metadata": {
  "kernelspec": {
   "display_name": "Python",
   "language": "python",
   "name": "conda-env-python-py"
  },
  "language_info": {
   "codemirror_mode": {
    "name": "ipython",
    "version": 3
   },
   "file_extension": ".py",
   "mimetype": "text/x-python",
   "name": "python",
   "nbconvert_exporter": "python",
   "pygments_lexer": "ipython3",
   "version": "3.6.7"
  }
 },
 "nbformat": 4,
 "nbformat_minor": 4
}
