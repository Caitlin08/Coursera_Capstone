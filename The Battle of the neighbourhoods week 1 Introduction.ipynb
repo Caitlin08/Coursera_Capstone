{
 "cells": [
  {
   "cell_type": "markdown",
   "metadata": {},
   "source": [
    "# Capstone Project - The battle of the neighbourhoods Week 1"
   ]
  },
  {
   "cell_type": "markdown",
   "metadata": {},
   "source": [
    "## Introduction\n",
    "This assignment is targeted at stakeholders wanting to open a sit-down restaurant in a popular area.\n",
    "\n",
    "London is one of the most popular cities in the world, it is home to 7.5 million of people and welcomes million of visitors each year [1]. The number of residents as well as tourists visiting London each year brings a boost to businesses and therefore London was chosen to analyze in the assignment.\n",
    "\n",
    "London is made up of unique neighbourhoods, each with their own characteristics, however only the 10 best neighbourhoods to explore in London, according to source [2], were analyzed. This is because these 10 neighbourhoods are distinct and thus popular and have numerous people passing through each day making them an ideal area to open a restaurant. \n",
    "\n",
    "The distance of the restaurant to London central is investigated. The closer the restaurant is to London central results in more circulation of people in and out of the city center and thus a higher potential for customers. We will also look at what types of restaurants are common and popular in each neighbourhood helping us decide what type of restaurant to open.\n",
    "\n",
    "Data analysis will be used on each of the neighbourhoods so that the best choice can be made by the stakeholders"
   ]
  },
  {
   "cell_type": "markdown",
   "metadata": {},
   "source": [
    "## References\n",
    "[1]\tFerne Arfin. 2019. Top 20 Most Popular UK Cities for International Visitors. 06 December 2019. <https://www.tripsavvy.com/popular-uk-cities-for-international-visitors-1661845>\n",
    "\n",
    "[2]\tRachel Erdos. 2019. The 10 Best Neighbourhoods to Explore in London. 06 December 2019. <https://www.tripsavvy.com/best-neighbourhoods-to-explore-in-london-4129386>"
   ]
  },
  {
   "cell_type": "code",
   "execution_count": null,
   "metadata": {},
   "outputs": [],
   "source": []
  }
 ],
 "metadata": {
  "kernelspec": {
   "display_name": "Python",
   "language": "python",
   "name": "conda-env-python-py"
  },
  "language_info": {
   "codemirror_mode": {
    "name": "ipython",
    "version": 3
   },
   "file_extension": ".py",
   "mimetype": "text/x-python",
   "name": "python",
   "nbconvert_exporter": "python",
   "pygments_lexer": "ipython3",
   "version": "3.6.7"
  }
 },
 "nbformat": 4,
 "nbformat_minor": 4
}
